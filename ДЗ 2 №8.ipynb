{
 "cells": [
  {
   "cell_type": "code",
   "execution_count": 1,
   "id": "0418b52e",
   "metadata": {},
   "outputs": [],
   "source": [
    "import matplotlib.pyplot as plt\n",
    "%matplotlib inline\n",
    "import networkx as nx\n",
    "from math import log10\n",
    "a = 0.5\n",
    "b = 0.5"
   ]
  },
  {
   "cell_type": "code",
   "execution_count": 2,
   "id": "6c2a717e",
   "metadata": {},
   "outputs": [],
   "source": [
    "def p(din):\n",
    "    n = 3\n",
    "    points = [0, 1, 2]\n",
    "    weights = [1+din, 1+din, 1+din]\n",
    "    tmp = 0\n",
    "    f = open(\"C:\\\\Users\\\\lesha\\\\Documents\\\\Большие графы\\\\graph28.txt\", \"r\")\n",
    "    f.readline()\n",
    "    f.readline()\n",
    "    f.readline()\n",
    "    s = 3 + 3*din\n",
    "    while True:\n",
    "        line = f.readline()\n",
    "        if not line:\n",
    "            break\n",
    "        v1, v2 = line.split()\n",
    "        if v1 in points:\n",
    "            tmp += log10(b) + log10(weights[int(v2)]) - log10(s)\n",
    "        else:\n",
    "            tmp += log10(a) + log10(weights[int(v2)]) - log10(s) \n",
    "            weights.append(din)\n",
    "            points.append(n)\n",
    "            n += 1\n",
    "            s += din\n",
    "        s += 1\n",
    "        weights[int(v2)] += 1\n",
    "    f.close()\n",
    "    return tmp"
   ]
  },
  {
   "cell_type": "code",
   "execution_count": 3,
   "id": "cee031d3",
   "metadata": {},
   "outputs": [
    {
     "name": "stdout",
     "output_type": "stream",
     "text": [
      "0.25\n"
     ]
    },
    {
     "data": {
      "image/png": "[encoded data removed]",
      "text/plain": [
       "<Figure size 432x288 with 1 Axes>"
      ]
     },
     "metadata": {
      "needs_background": "light"
     },
     "output_type": "display_data"
    }
   ],
   "source": [
    "import numpy as np\n",
    "xdata = []\n",
    "ydata = []\n",
    "p_max = -10000000\n",
    "for i in np.arange(0.01, 1.01, 0.01):\n",
    "    xdata.append(i)\n",
    "    p1 = p(i)\n",
    "    ydata.append(p1)\n",
    "    if p1 > p_max:\n",
    "        din_max = i\n",
    "        p_max = p1\n",
    "print(din_max)\n",
    "plt.plot(xdata, ydata, ls='None', marker='.')\n",
    "plt.show()"
   ]
  },
  {
   "cell_type": "code",
   "execution_count": null,
   "id": "ab785a9c",
   "metadata": {},
   "outputs": [],
   "source": []
  }
 ],
 "metadata": {
  "kernelspec": {
   "display_name": "Python 3 (ipykernel)",
   "language": "python",
   "name": "python3"
  },
  "language_info": {
   "codemirror_mode": {
    "name": "ipython",
    "version": 3
   },
   "file_extension": ".py",
   "mimetype": "text/x-python",
   "name": "python",
   "nbconvert_exporter": "python",
   "pygments_lexer": "ipython3",
   "version": "3.10.4"
  }
 },
 "nbformat": 4,
 "nbformat_minor": 5
}
